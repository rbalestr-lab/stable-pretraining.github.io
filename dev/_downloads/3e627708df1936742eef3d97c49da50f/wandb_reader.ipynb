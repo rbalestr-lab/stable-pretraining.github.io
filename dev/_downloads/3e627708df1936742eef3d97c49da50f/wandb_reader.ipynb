{
  "cells": [
    {
      "cell_type": "markdown",
      "metadata": {},
      "source": [
        "This script demonstrates how to retrieve data from wandb using the stable-SSL library.\n"
      ]
    },
    {
      "cell_type": "code",
      "execution_count": null,
      "metadata": {
        "collapsed": false
      },
      "outputs": [],
      "source": [
        "import stable_ssl as ssl\n\nconfig, df = ssl.utils.reader.wandb_run(\n    \"excap\", \"single_dataset_sequential\", \"p67ng6bq\"\n)\nprint(df)\nconfigs, dfs = ssl.utils.reader.wandb_project(\"excap\", \"single_dataset_sequential\")\nprint(dfs)"
      ]
    }
  ],
  "metadata": {
    "kernelspec": {
      "display_name": "Python 3",
      "language": "python",
      "name": "python3"
    },
    "language_info": {
      "codemirror_mode": {
        "name": "ipython",
        "version": 3
      },
      "file_extension": ".py",
      "mimetype": "text/x-python",
      "name": "python",
      "nbconvert_exporter": "python",
      "pygments_lexer": "ipython3",
      "version": "3.10.18"
    }
  },
  "nbformat": 4,
  "nbformat_minor": 0
}