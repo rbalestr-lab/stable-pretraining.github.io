{
  "cells": [
    {
      "cell_type": "markdown",
      "metadata": {},
      "source": [
        "This script demonstrates how to retrieve data from wandb using the stable_pretraining library and create plots from it.\n\nTo use, you should set the entity variable to your WandB entity and the project variable to the specific project within\nyour WandB entity that you want to access runs from.\n"
      ]
    },
    {
      "cell_type": "code",
      "execution_count": null,
      "metadata": {
        "collapsed": false
      },
      "outputs": [],
      "source": [
        "import matplotlib.pyplot as plt\nfrom tqdm import tqdm\n\nimport stable_pretraining as spt\n\nentity = \"[YOUR ENTITY HERE]\"\nproject = \"[YOUR PROJECT HERE]\"\n\n\n# want to retrieve finished runs from wandb\nconfigs, dfs = spt.reader.wandb_project(\n    entity=entity, project=project, filters={\"state\": \"finished\"}\n)\n\n# Here you would define wanted conditions that you can use to narrow down the WandB runs, if you want to access all your runs\n# in the project then you would not define anything here and would remove the first if statement in the for loop\n# access all runs with the wanted dataset and model backbone\nwanted_dataset = \"imdb\"\nwanted_backbone = \"Snowflake/snowflake-arctic-embed-xs\"\n\n\n# This section allows for the users to define the information they want to separate the runs into to later be plotted\n# for this example, we are dividing the data based on rank and location. We are the going to plot the spurious_proportion on the\n# x-axis and balanced_accuracy on the y-axis\n\n# Dictionary to store results\nresults = {\n    rank: {\n        loc: {\"spurious_proportion\": [], \"balanced_accuracy\": []}\n        for loc in [\"random\", \"end\", \"beginning\"]\n    }\n    for rank in [0, 2, 32]\n}\n\n# Iterate through runs and gather information from WandB\nfor run_id, df in tqdm(dfs.items(), desc=\"Processing runs\", unit=\"run\"):\n    # Get the dataset, backbone, and run name from the WandB runs, this allows us to focus on the runs for specific conditions\n    # we want to plot (ex we only want to plot runs for a specific dataset and backbone)\n    dataset = df.get(\"dataset\", None)\n    backbone = df.get(\"backbone\", None)\n    run_name = df.get(\"run_name\", None)\n\n    # make sure the ones we are using met the conditions for what we want to graph\n    if (\n        wanted_dataset.lower() in dataset.lower()\n        and wanted_backbone.lower() in backbone.lower()\n    ):\n        # Extract spurious correlation proportion, location, and lora_rank used\n        spurious_proportion = df.get(\"spurious_proportion\", None)\n        spurious_location = df.get(\"spurious_location\", None)\n        lora_rank = df.get(\"lora_rank\", None)\n        use_spurious = df.get(\"use_spurious\", None)\n        using_list = df.get(\"use_list_dataset\", None)\n\n        # This if statement allows us to exclude runs we dont want to plot, you can change it based on your needs\n        # only access if it contains everything wanted\n        if (\n            spurious_proportion is not None\n            and spurious_location is not None\n            and spurious_proportion >= 0\n            and lora_rank is not None\n            and use_spurious\n            and using_list is None\n        ):\n            # Extract balanced accuracy from the run\n            new_df, config = spt.reader.wandb(entity, project, run_id)\n            # drop the ones that are NAN\n            balanced_acc = new_df[\"eval/NonSpurious_balanced_accuracy\"].dropna()\n\n            # Add the last one to be plotted\n            if not balanced_acc.empty:\n                balanced_acc = balanced_acc.iloc[-1]  # Get the final valid accuracy\n                results[lora_rank][spurious_location][\"spurious_proportion\"].append(\n                    spurious_proportion\n                )\n                results[lora_rank][spurious_location][\"balanced_accuracy\"].append(\n                    balanced_acc\n                )\n\n\n# Functions used to simplify the plotting process, making it more extensible\n# Sort values for plotting\ndef sort_and_unpack(data):\n    if data[\"spurious_proportion\"]:\n        sorted_data = sorted(\n            zip(data[\"spurious_proportion\"], data[\"balanced_accuracy\"])\n        )\n        return zip(*sorted_data)\n    return [], []\n\n\n# Create figure\nplt.figure(figsize=(20, 14))\nstyles = {0: \"-\", 2: \"--\", 32: \":\"}\nmarkers = {\"random\": \"s\", \"end\": \"d\", \"beginning\": \"x\"}\n\n# Plot the data\nfor rank in results:\n    for location in results[rank]:\n        x, y = sort_and_unpack(results[rank][location])\n        plt.plot(\n            x,\n            y,\n            linestyle=styles[rank],\n            marker=markers[location],\n            label=f\"{location.capitalize()} (LoRA Rank {rank})\",\n        )\n\n# Label the plot and axis, you can change these to whatever you want/need\nplt.xlabel(\"Spurious Correlation Proportion\", fontsize=14)\nplt.ylabel(\"Balanced Accuracy on Clean Test Set\", fontsize=14)\nplt.title(\n    f\"Balanced Accuracy vs Spurious Correlation using {wanted_backbone} on {wanted_dataset}, Spurious Type: Date, From List: {using_list}\",\n    fontsize=16,\n)\nplt.legend(fontsize=12)\nplt.grid()\n\n# Save the figure locally, you can name it whatever you want for your needs\nplt.savefig(\n    \"balanced_accuracy_vs_spurious_correlation.png\", dpi=300, bbox_inches=\"tight\"\n)"
      ]
    }
  ],
  "metadata": {
    "kernelspec": {
      "display_name": "Python 3",
      "language": "python",
      "name": "python3"
    },
    "language_info": {
      "codemirror_mode": {
        "name": "ipython",
        "version": 3
      },
      "file_extension": ".py",
      "mimetype": "text/x-python",
      "name": "python",
      "nbconvert_exporter": "python",
      "pygments_lexer": "ipython3",
      "version": "3.10.19"
    }
  },
  "nbformat": 4,
  "nbformat_minor": 0
}